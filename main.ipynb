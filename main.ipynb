{
  "nbformat": 4,
  "nbformat_minor": 0,
  "metadata": {
    "colab": {
      "provenance": []
    },
    "kernelspec": {
      "name": "python3",
      "display_name": "Python 3"
    },
    "language_info": {
      "name": "python"
    }
  },
  "cells": [
    {
      "cell_type": "code",
      "source": [
        "!pip install -q -U google-generativeai"
      ],
      "metadata": {
        "id": "ZkVhfLXUFoAW"
      },
      "execution_count": null,
      "outputs": []
    },
    {
      "cell_type": "code",
      "source": [
        "import pathlib\n",
        "import textwrap\n",
        "\n",
        "import google.generativeai as genai\n",
        "\n",
        "from google.colab import userdata\n",
        "\n",
        "from IPython.display import display\n",
        "from IPython.display import Markdown"
      ],
      "metadata": {
        "id": "ZA8znyGNPIcl"
      },
      "execution_count": null,
      "outputs": []
    },
    {
      "cell_type": "code",
      "source": [
        "GOOGLE_API_KEY=userdata.get('GOOGLE_API_KEY')\n",
        "\n",
        "genai.configure(api_key=\"GOOGLE_API_KEY\")"
      ],
      "metadata": {
        "id": "47YuSLVJPadS"
      },
      "execution_count": null,
      "outputs": []
    },
    {
      "cell_type": "code",
      "source": [
        "json_data = json.load(open(\"curelink.json\"))"
      ],
      "metadata": {
        "id": "m5VLXJHrB0D9"
      },
      "execution_count": null,
      "outputs": []
    },
    {
      "cell_type": "code",
      "source": [
        "final_output = []"
      ],
      "metadata": {
        "id": "nvB2ArbMIAp5"
      },
      "execution_count": null,
      "outputs": []
    },
    {
      "cell_type": "markdown",
      "source": [
        "## The below cell contains functions which are made for the purpose of getting recommended meal from the meal_options using date, time and id.\n",
        "\n",
        "Instead of using PDF OCR to read the charts which may incurr cost and time, I used the chart diet data provided in the json by using the query date and time which is nearest to the diet time."
      ],
      "metadata": {
        "id": "Be23T0PsNaZd"
      }
    },
    {
      "cell_type": "code",
      "source": [
        "import json\n",
        "from datetime import datetime, timedelta\n",
        "from bs4 import BeautifulSoup\n",
        "\n",
        "\n",
        "# Function to calculate the order based on start_date and input date\n",
        "def calculate_order(start_date, input_date):\n",
        "    start = datetime.strptime(start_date, \"%Y-%m-%d\")\n",
        "    input_d = datetime.strptime(input_date, \"%Y-%m-%d\")\n",
        "    return (input_d - start).days + 1\n",
        "\n",
        "# Function to find the nearest meal time\n",
        "def find_nearest_meal_time(meal_times, input_time):\n",
        "    input_dt = datetime.strptime(input_time, \"%I:%M %p\")\n",
        "    nearest_time = min(meal_times, key=lambda x: abs(datetime.strptime(x, \"%I:%M %p\") - input_dt))\n",
        "    return nearest_time\n",
        "\n",
        "# Function to extract the required details\n",
        "def extract_meal_details(json_file, diet_chart_id, input_time, date):\n",
        "\n",
        "    for entry in json_data:\n",
        "        diet_chart = entry.get(\"profile_context\", {}).get(\"diet_chart\", {})\n",
        "        if diet_chart.get(\"id\") == diet_chart_id:\n",
        "            start_date = diet_chart.get(\"start_date\", \"\").split(\"T\")[0]\n",
        "            order = calculate_order(start_date, date)\n",
        "            meals_by_days = diet_chart.get(\"meals_by_days\", [])\n",
        "\n",
        "            for day in meals_by_days:\n",
        "                if day.get(\"order\") == order:\n",
        "                    meals = day.get(\"meals\", [])\n",
        "                    meal_times = [meal.get(\"timings\") for meal in meals]\n",
        "                    nearest_time = find_nearest_meal_time(meal_times, input_time)\n",
        "\n",
        "                    for meal in meals:\n",
        "                        if meal.get(\"timings\") == nearest_time:\n",
        "                            meal_options = meal.get(\"meal_options\", [])\n",
        "                            food_items_details = []\n",
        "\n",
        "                            for option in meal_options:\n",
        "                                notes = option.get(\"notes\", \"\")\n",
        "                                soup = BeautifulSoup(notes, \"html.parser\")\n",
        "                                plain_text = soup.get_text()\n",
        "                                for item in option.get(\"meal_option_food_items\", []):\n",
        "                                    food_name = item.get(\"Food\", {}).get(\"name\")\n",
        "                                    food_measure_quantity = item.get(\"food_measure_quantity\")\n",
        "                                    food_measures = item.get(\"Food\", {}).get(\"food_measures\", [])\n",
        "                                    food_measure_name = next(\n",
        "                                        (measure.get(\"name\") for measure in food_measures if measure.get(\"rank\") == 1), \"\"\n",
        "                                    )\n",
        "                                    food_items_details.append(f\"{food_name} ({food_measure_quantity} {food_measure_name})\")\n",
        "\n",
        "                            return ', '.join(food_items_details) + \"\\n\" + plain_text\n",
        "\n",
        "    return \"No matching details found.\""
      ],
      "metadata": {
        "id": "qJTMlGIoxDa5"
      },
      "execution_count": null,
      "outputs": []
    },
    {
      "cell_type": "markdown",
      "source": [
        "## The below cell is to iterate over the latest_query with images and chat_context."
      ],
      "metadata": {
        "id": "Q9rlVq1eNyk_"
      }
    },
    {
      "cell_type": "code",
      "source": [
        "def process_latest_query(latest_query, chat_context):\n",
        "    result = {}\n",
        "\n",
        "    # Create a dictionary to map messages to asset_urls from chat_history\n",
        "    message_to_asset_url = {}\n",
        "    for chat in chat_context.get(\"chat_history\", []):\n",
        "        message = chat.get(\"message\", \"\")\n",
        "        asset_url = chat.get(\"asset_url\", \"\")\n",
        "        if message and asset_url:\n",
        "            message_to_asset_url[message] = asset_url\n",
        "\n",
        "    for query in latest_query:\n",
        "        if query.get(\"role\") == \"user\":\n",
        "            content = query.get(\"content\", \"\")\n",
        "\n",
        "            if content.startswith(\"Sent an image\"):\n",
        "                description = content\n",
        "\n",
        "                # Find the matching asset_url based on the full content\n",
        "                image_url = message_to_asset_url.get(description, description)\n",
        "\n",
        "                caption = \"\"\n",
        "\n",
        "                # Check if there's a caption starting with \"with the following caption\"\n",
        "                if \"with the following caption\" in content:\n",
        "                    caption_start = content.find(\"with the following caption\") + len(\"with the following caption\")\n",
        "                    caption = content[caption_start:].strip()\n",
        "\n",
        "                # Or if there's a caption starting with \"with:\\\"\"\n",
        "                elif \"with: \\\"\" in content:\n",
        "                    caption_start = content.find(\"with: \\\"\") + len(\"with: \\\"\")\n",
        "                    caption_end = content.find(\"\\\"\", caption_start)\n",
        "                    caption = content[caption_start:caption_end].strip()\n",
        "\n",
        "                # Store the URL (asset_url or default description) and caption in the dictionary\n",
        "                result[image_url] = caption\n",
        "\n",
        "            elif content.startswith(\"Replied to the following message\"):\n",
        "                # Extract the referenced description (message)\n",
        "                msg_start = content.find(\"\\\"\") + 1\n",
        "                msg_end = content.find(\"\\\"\", msg_start)\n",
        "                referenced_msg = content[msg_start:msg_end].strip()\n",
        "\n",
        "                # Extract the reply content after \"with:\\\"\"\n",
        "                reply_start = content.find(\"with: \\\"\") + len(\"with: \\\"\")\n",
        "                reply_end = content.find(\"\\\"\", reply_start)\n",
        "                reply = content[reply_start:reply_end].strip()\n",
        "\n",
        "                # Find the asset_url for the referenced message\n",
        "                referenced_url = message_to_asset_url.get(referenced_msg, None)\n",
        "\n",
        "                if referenced_url in result:\n",
        "                    result[referenced_url] = reply\n",
        "\n",
        "    return result"
      ],
      "metadata": {
        "id": "7l4s8tRq4Vky"
      },
      "execution_count": null,
      "outputs": []
    },
    {
      "cell_type": "markdown",
      "source": [
        "The final loop to iterate over json and call all the functions and Gemini LLM to perform AI task."
      ],
      "metadata": {
        "id": "LBO9upUMODpq"
      }
    },
    {
      "cell_type": "code",
      "source": [
        "for item in json_data:\n",
        "  latest_query_data=item[\"latest_query\"]\n",
        "  chat_context_data=item[\"chat_context\"]\n",
        "  ticket_id = item[\"chat_context\"][\"ticket_id\"]\n",
        "  ideal_response = item[\"ideal_response\"]\n",
        "  ticket_created= item[\"chat_context\"][\"ticket_created\"]\n",
        "  dt = datetime.strptime(ticket_created, \"%B %d, %Y, %I:%M %p\")\n",
        "  input_time = dt.strftime(\"%I:%M %p\")\n",
        "  date = dt.strftime(\"%Y-%m-%d\")\n",
        "  diet_chart_id = item[\"profile_context\"][\"diet_chart\"][\"id\"]\n",
        "\n",
        "  meal_details = extract_meal_details('curelink.json', diet_chart_id, input_time, date)\n",
        "\n",
        "  latest_query_dict = process_latest_query(latest_query_data,chat_context_data)\n",
        "  sample_file = [\"Diet: \"+meal_details+\"\\n\"]\n",
        "  for the_key, the_value in latest_query_dict.items():\n",
        "    !curl -s -o user_input.jpg {the_key}\n",
        "    sample_image = genai.upload_file(path=\"user_input.jpg\")\n",
        "    sample_file.append(sample_image)\n",
        "    sample_file.append(the_value)\n",
        "\n",
        "  model = genai.GenerativeModel(\n",
        "      'gemini-1.5-flash',\n",
        "      system_instruction=\"You're a dietician who have given some diet plans for user which is needed to follow strictly, your users send you a picture on whatsapp whenever they eat. Your job is to check if they're following the Diet strictly or not.\")\n",
        "\n",
        "  response = model.generate_content(sample_file,safety_settings={\n",
        "          'HATE': 'BLOCK_NONE',\n",
        "          'HARASSMENT': 'BLOCK_NONE',\n",
        "          'SEXUAL' : 'BLOCK_NONE',\n",
        "          'DANGEROUS' : 'BLOCK_NONE'\n",
        "      })\n",
        "\n",
        "  final_response = {\n",
        "\t  \"ticket_id\": ticket_id,\n",
        "\t  \"latest_query\":latest_query_data,\n",
        "\t  \"generated_response\": response.text,\n",
        "\t  \"ideal_response\": ideal_response\n",
        "  }\n",
        "\n",
        "  final_output.append(final_response)"
      ],
      "metadata": {
        "id": "Bf46ARCAFUB_"
      },
      "execution_count": null,
      "outputs": []
    },
    {
      "cell_type": "code",
      "source": [
        "file_name = 'output.json'\n",
        "with open(file_name, 'w') as file:\n",
        "    json.dump(final_output, file, indent=4)"
      ],
      "metadata": {
        "id": "t3JIg_ACBNXw"
      },
      "execution_count": null,
      "outputs": []
    }
  ]
}